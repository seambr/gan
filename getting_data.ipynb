{
 "cells": [
  {
   "cell_type": "code",
   "execution_count": 1,
   "metadata": {},
   "outputs": [],
   "source": [
    "import yaml"
   ]
  },
  {
   "cell_type": "code",
   "execution_count": 2,
   "metadata": {},
   "outputs": [
    {
     "data": {
      "text/plain": [
       "False"
      ]
     },
     "execution_count": 2,
     "metadata": {},
     "output_type": "execute_result"
    }
   ],
   "source": [
    "import asyncio\n",
    "import aiohttp\n",
    "from bs4 import BeautifulSoup\n",
    "from pathlib import Path\n",
    "import requests\n",
    "from pprint import pprint\n",
    "from typing import NamedTuple, List\n",
    "import pickle\n",
    "import time\n",
    "from dotenv import load_dotenv\n",
    "import os\n",
    "load_dotenv()"
   ]
  },
  {
   "cell_type": "code",
   "execution_count": 3,
   "metadata": {},
   "outputs": [],
   "source": [
    "class Card(NamedTuple):\n",
    "    src: List[str]\n",
    "    title: str"
   ]
  },
  {
   "cell_type": "markdown",
   "metadata": {},
   "source": [
    "## Getting One Page\n"
   ]
  },
  {
   "cell_type": "code",
   "execution_count": 14,
   "metadata": {},
   "outputs": [],
   "source": [
    "with open(\"source.yaml\",\"r\") as fp:\n",
    "    source = yaml.safe_load(fp)\n",
    "\n",
    "\n",
    "URL = source[\"source\"]\n",
    "page_number = 1\n",
    "set_res = requests.get(\n",
    "    URL.format(page_number=page_number))\n",
    "soup = BeautifulSoup(set_res.text, 'html.parser')\n",
    "card_imgs = soup.find_all('img', {'class': 'card-image'})"
   ]
  },
  {
   "cell_type": "code",
   "execution_count": 15,
   "metadata": {},
   "outputs": [],
   "source": [
    "import re\n",
    "src_sets = [Card(    [re.sub(r' \\d\\d\\dw',\"\",j) for j in i['srcset'].split(', ')]     , i.parent['title'])\n",
    "            for i in card_imgs]\n",
    "\n",
    "card_set = [Card(card.src[1].replace(\" 225w\", \"\").strip(), card.title)\n",
    "            for card in src_sets]\n"
   ]
  },
  {
   "cell_type": "code",
   "execution_count": 16,
   "metadata": {},
   "outputs": [
    {
     "data": {
      "text/plain": [
       "['https://pkmncards.com/wp-content/uploads/svbsp_en_162_std.jpg',\n",
       " 'https://pkmncards.com/wp-content/uploads/svbsp_en_162_std-225x314.jpg',\n",
       " 'https://pkmncards.com/wp-content/uploads/svbsp_en_162_std-312x436.jpg']"
      ]
     },
     "execution_count": 16,
     "metadata": {},
     "output_type": "execute_result"
    }
   ],
   "source": [
    "src_sets[0].src"
   ]
  },
  {
   "cell_type": "code",
   "execution_count": 22,
   "metadata": {},
   "outputs": [
    {
     "name": "stdout",
     "output_type": "stream",
     "text": [
      "26\n",
      "27\n",
      "28\n",
      "29\n",
      "30\n",
      "1740\n"
     ]
    }
   ],
   "source": [
    "data_path = (Path.cwd()/'data')\n",
    "data_path.mkdir(parents=True, exist_ok=True)\n",
    "\n",
    "try:\n",
    "    with open(data_path / 'cards.pickle', 'rb') as fp:\n",
    "        cards = pickle.load(fp)\n",
    "except EOFError:\n",
    "    cards = []\n",
    "except:\n",
    "    cards = []\n",
    "\n",
    "try:\n",
    "    with open(data_path / 'saved_index.pickle', 'rb') as fp:\n",
    "         START = int(pickle.load(fp)) + 1\n",
    "\n",
    "except:\n",
    "        START = 1\n",
    "\n",
    "FETCH_NUMBER = 5\n",
    "for page in range(START, START+FETCH_NUMBER):\n",
    "    BASE_URL = source[\"source\"]\n",
    "    try:\n",
    "        set_res = requests.get(BASE_URL.format(page_number=page))\n",
    "        soup = BeautifulSoup(set_res.text, 'html.parser')\n",
    "        card_imgs = soup.find_all('img', {'class': 'card-image'})\n",
    "        src_sets = [Card(i['srcset'].split(', '), i.parent['title'])\n",
    "                    for i in card_imgs]\n",
    "        card_set = [Card(card.src[1].replace(\" 225w\", \"\").strip(),\n",
    "                         card.title) for card in src_sets]\n",
    "\n",
    "        cards.extend(card_set)\n",
    "\n",
    "        if (page % 5 == 0):\n",
    "            with open(data_path / 'cards.pickle', 'wb') as fp:\n",
    "                pickle.dump(cards, fp)\n",
    "            with open(data_path / 'saved_index.pickle', 'wb') as fp:\n",
    "                pickle.dump(page, fp)\n",
    "        print(page)\n",
    "    except:\n",
    "        pass\n",
    "\n",
    "    time.sleep(0.1)\n",
    "\n",
    "print(len(cards))\n",
    "# pprint(cards)"
   ]
  }
 ],
 "metadata": {
  "kernelspec": {
   "display_name": "base",
   "language": "python",
   "name": "python3"
  },
  "language_info": {
   "codemirror_mode": {
    "name": "ipython",
    "version": 3
   },
   "file_extension": ".py",
   "mimetype": "text/x-python",
   "name": "python",
   "nbconvert_exporter": "python",
   "pygments_lexer": "ipython3",
   "version": "3.12.4"
  }
 },
 "nbformat": 4,
 "nbformat_minor": 2
}
