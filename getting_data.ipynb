{
 "cells": [
  {
   "cell_type": "code",
   "execution_count": 1,
   "metadata": {},
   "outputs": [],
   "source": [
    "import yaml"
   ]
  },
  {
   "cell_type": "code",
   "execution_count": 2,
   "metadata": {},
   "outputs": [
    {
     "data": {
      "text/plain": [
       "False"
      ]
     },
     "execution_count": 2,
     "metadata": {},
     "output_type": "execute_result"
    }
   ],
   "source": [
    "import asyncio\n",
    "import aiohttp\n",
    "from bs4 import BeautifulSoup\n",
    "from pathlib import Path\n",
    "import requests\n",
    "from pprint import pprint\n",
    "from typing import NamedTuple, List\n",
    "import pickle\n",
    "import time\n",
    "from dotenv import load_dotenv\n",
    "import os\n",
    "load_dotenv()"
   ]
  },
  {
   "cell_type": "code",
   "execution_count": 3,
   "metadata": {},
   "outputs": [],
   "source": [
    "class Card(NamedTuple):\n",
    "    src: List[str]\n",
    "    title: str"
   ]
  },
  {
   "cell_type": "markdown",
   "metadata": {},
   "source": [
    "## Getting One Page\n"
   ]
  },
  {
   "cell_type": "code",
   "execution_count": 4,
   "metadata": {},
   "outputs": [],
   "source": [
    "with open(\"source.yaml\",\"r\") as fp:\n",
    "    source = yaml.safe_load(fp)\n",
    "\n",
    "\n",
    "URL = source[\"source\"]\n",
    "page_number = 1\n",
    "set_res = requests.get(\n",
    "    URL.format(page_number=page_number))\n",
    "soup = BeautifulSoup(set_res.text, 'html.parser')\n",
    "card_imgs = soup.find_all('img', {'class': 'card-image'})"
   ]
  },
  {
   "cell_type": "code",
   "execution_count": 9,
   "metadata": {},
   "outputs": [],
   "source": [
    "import re\n",
    "src_sets = [Card(    [re.sub(r' \\d\\d\\dw',\"\",j) for j in i['srcset'].split(', ')]     , i.parent['title'])\n",
    "            for i in card_imgs]\n",
    "\n",
    "card_set = [Card(card.src[1].replace(\" 225w\", \"\").strip(), card.title)\n",
    "            for card in src_sets]\n"
   ]
  },
  {
   "cell_type": "code",
   "execution_count": 10,
   "metadata": {},
   "outputs": [
    {
     "data": {
      "text/plain": [
       "['https://pkmncards.com/wp-content/uploads/sv7_en_104_std.jpg',\n",
       " 'https://pkmncards.com/wp-content/uploads/sv7_en_104_std-225x314.jpg',\n",
       " 'https://pkmncards.com/wp-content/uploads/sv7_en_104_std-312x436.jpg']"
      ]
     },
     "execution_count": 10,
     "metadata": {},
     "output_type": "execute_result"
    }
   ],
   "source": [
    "src_sets[0].src"
   ]
  },
  {
   "cell_type": "code",
   "execution_count": 12,
   "metadata": {},
   "outputs": [
    {
     "ename": "FileNotFoundError",
     "evalue": "[Errno 2] No such file or directory: '/home/adem/Projects/GAN/gan/data/saved_index.pickle'",
     "output_type": "error",
     "traceback": [
      "\u001b[0;31m---------------------------------------------------------------------------\u001b[0m",
      "\u001b[0;31mFileNotFoundError\u001b[0m                         Traceback (most recent call last)",
      "Cell \u001b[0;32mIn[12], line 13\u001b[0m\n\u001b[1;32m      9\u001b[0m \u001b[38;5;28;01mexcept\u001b[39;00m:\n\u001b[1;32m     10\u001b[0m     cards \u001b[38;5;241m=\u001b[39m []\n\u001b[0;32m---> 13\u001b[0m \u001b[38;5;28;01mwith\u001b[39;00m \u001b[38;5;28mopen\u001b[39m(data_path \u001b[38;5;241m/\u001b[39m \u001b[38;5;124m'\u001b[39m\u001b[38;5;124msaved_index.pickle\u001b[39m\u001b[38;5;124m'\u001b[39m, \u001b[38;5;124m'\u001b[39m\u001b[38;5;124mrb\u001b[39m\u001b[38;5;124m'\u001b[39m) \u001b[38;5;28;01mas\u001b[39;00m fp:\n\u001b[1;32m     14\u001b[0m     \u001b[38;5;28;01mtry\u001b[39;00m:\n\u001b[1;32m     15\u001b[0m         START \u001b[38;5;241m=\u001b[39m \u001b[38;5;28mint\u001b[39m(pickle\u001b[38;5;241m.\u001b[39mload(fp)) \u001b[38;5;241m+\u001b[39m \u001b[38;5;241m1\u001b[39m\n",
      "File \u001b[0;32m~/anaconda3/lib/python3.12/site-packages/IPython/core/interactiveshell.py:324\u001b[0m, in \u001b[0;36m_modified_open\u001b[0;34m(file, *args, **kwargs)\u001b[0m\n\u001b[1;32m    317\u001b[0m \u001b[38;5;28;01mif\u001b[39;00m file \u001b[38;5;129;01min\u001b[39;00m {\u001b[38;5;241m0\u001b[39m, \u001b[38;5;241m1\u001b[39m, \u001b[38;5;241m2\u001b[39m}:\n\u001b[1;32m    318\u001b[0m     \u001b[38;5;28;01mraise\u001b[39;00m \u001b[38;5;167;01mValueError\u001b[39;00m(\n\u001b[1;32m    319\u001b[0m         \u001b[38;5;124mf\u001b[39m\u001b[38;5;124m\"\u001b[39m\u001b[38;5;124mIPython won\u001b[39m\u001b[38;5;124m'\u001b[39m\u001b[38;5;124mt let you open fd=\u001b[39m\u001b[38;5;132;01m{\u001b[39;00mfile\u001b[38;5;132;01m}\u001b[39;00m\u001b[38;5;124m by default \u001b[39m\u001b[38;5;124m\"\u001b[39m\n\u001b[1;32m    320\u001b[0m         \u001b[38;5;124m\"\u001b[39m\u001b[38;5;124mas it is likely to crash IPython. If you know what you are doing, \u001b[39m\u001b[38;5;124m\"\u001b[39m\n\u001b[1;32m    321\u001b[0m         \u001b[38;5;124m\"\u001b[39m\u001b[38;5;124myou can use builtins\u001b[39m\u001b[38;5;124m'\u001b[39m\u001b[38;5;124m open.\u001b[39m\u001b[38;5;124m\"\u001b[39m\n\u001b[1;32m    322\u001b[0m     )\n\u001b[0;32m--> 324\u001b[0m \u001b[38;5;28;01mreturn\u001b[39;00m io_open(file, \u001b[38;5;241m*\u001b[39margs, \u001b[38;5;241m*\u001b[39m\u001b[38;5;241m*\u001b[39mkwargs)\n",
      "\u001b[0;31mFileNotFoundError\u001b[0m: [Errno 2] No such file or directory: '/home/adem/Projects/GAN/gan/data/saved_index.pickle'"
     ]
    }
   ],
   "source": [
    "data_path = (Path.cwd()/'data')\n",
    "data_path.mkdir(parents=True, exist_ok=True)\n",
    "\n",
    "try:\n",
    "    with open(data_path / 'cards.pickle', 'rb') as fp:\n",
    "        cards = pickle.load(fp)\n",
    "except EOFError:\n",
    "    cards = []\n",
    "except:\n",
    "    cards = []\n",
    "\n",
    "try:\n",
    "    with open(data_path / 'saved_index.pickle', 'rb') as fp:\n",
    "         START = int(pickle.load(fp)) + 1\n",
    "\n",
    "except:\n",
    "        START = 1\n",
    "\n",
    "FETCH_NUMBER = 5\n",
    "for page in range(START, START+FETCH_NUMBER):\n",
    "    BASE_URL = os.getenv(\"POKEMON_PAGE_URL\")\n",
    "    try:\n",
    "        set_res = requests.get(BASE_URL.format(page_number=page))\n",
    "        soup = BeautifulSoup(set_res.text, 'html.parser')\n",
    "        card_imgs = soup.find_all('img', {'class': 'card-image'})\n",
    "        src_sets = [Card(i['srcset'].split(', '), i.parent['title'])\n",
    "                    for i in card_imgs]\n",
    "        card_set = [Card(card.src[1].replace(\" 225w\", \"\").strip(),\n",
    "                         card.title) for card in src_sets]\n",
    "\n",
    "        cards.extend(card_set)\n",
    "\n",
    "        if (page % 5 == 0):\n",
    "            with open(data_path / 'cards.pickle', 'wb') as fp:\n",
    "                pickle.dump(cards, fp)\n",
    "            with open(data_path / 'saved_index.pickle', 'wb') as fp:\n",
    "                pickle.dump(page, fp)\n",
    "        print(page)\n",
    "    except:\n",
    "        pass\n",
    "\n",
    "    time.sleep(0.1)\n",
    "\n",
    "print(len(cards))\n",
    "# pprint(cards)"
   ]
  }
 ],
 "metadata": {
  "kernelspec": {
   "display_name": "base",
   "language": "python",
   "name": "python3"
  },
  "language_info": {
   "codemirror_mode": {
    "name": "ipython",
    "version": 3
   },
   "file_extension": ".py",
   "mimetype": "text/x-python",
   "name": "python",
   "nbconvert_exporter": "python",
   "pygments_lexer": "ipython3",
   "version": "3.12.4"
  }
 },
 "nbformat": 4,
 "nbformat_minor": 2
}
