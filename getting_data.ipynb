{
 "cells": [
  {
   "cell_type": "code",
   "execution_count": 69,
   "metadata": {},
   "outputs": [
    {
     "data": {
      "text/plain": [
       "True"
      ]
     },
     "execution_count": 69,
     "metadata": {},
     "output_type": "execute_result"
    }
   ],
   "source": [
    "import asyncio\n",
    "import aiohttp\n",
    "from bs4 import BeautifulSoup\n",
    "from pathlib import Path\n",
    "import requests\n",
    "from pprint import pprint\n",
    "from typing import NamedTuple\n",
    "import pickle\n",
    "import time\n",
    "from dotenv import load_dotenv\n",
    "import os\n",
    "load_dotenv()"
   ]
  },
  {
   "cell_type": "code",
   "execution_count": 71,
   "metadata": {},
   "outputs": [],
   "source": [
    "class Card(NamedTuple):\n",
    "    src: str\n",
    "    title: str"
   ]
  },
  {
   "cell_type": "markdown",
   "metadata": {},
   "source": [
    "## Getting One Page\n"
   ]
  },
  {
   "cell_type": "code",
   "execution_count": 76,
   "metadata": {},
   "outputs": [],
   "source": [
    "URL = os.getenv(\"POKEMON_PAGE_URL\")\n",
    "page_number = 1\n",
    "set_res = requests.get(\n",
    "    URL.format(page_number=page_number))\n",
    "soup = BeautifulSoup(set_res.text, 'html.parser')\n",
    "card_imgs = soup.find_all('img', {'class': 'card-image'})"
   ]
  },
  {
   "cell_type": "code",
   "execution_count": 77,
   "metadata": {},
   "outputs": [],
   "source": [
    "src_sets = [Card(i['srcset'].split(', '), i.parent['title'])\n",
    "            for i in card_imgs]\n",
    "\n",
    "card_set = [Card(card.src[1].replace(\" 225w\", \"\").strip(), card.title)\n",
    "            for card in src_sets]\n",
    "# pprint(card_set[:3])"
   ]
  },
  {
   "cell_type": "code",
   "execution_count": 79,
   "metadata": {},
   "outputs": [
    {
     "name": "stdout",
     "output_type": "stream",
     "text": [
      "191\n",
      "192\n",
      "193\n",
      "194\n",
      "195\n",
      "11640\n"
     ]
    }
   ],
   "source": [
    "data_path = (Path.cwd()/'data')\n",
    "data_path.mkdir(parents=True, exist_ok=True)\n",
    "\n",
    "try:\n",
    "    with open(data_path / 'cards.pickle', 'rb') as fp:\n",
    "        cards = pickle.load(fp)\n",
    "except EOFError:\n",
    "    cards = []\n",
    "\n",
    "\n",
    "with open(data_path / 'saved_index.pickle', 'rb') as fp:\n",
    "    try:\n",
    "        START = int(pickle.load(fp)) + 1\n",
    "    except:\n",
    "        START = 1\n",
    "\n",
    "FETCH_NUMBER = 5\n",
    "for page in range(START, START+FETCH_NUMBER):\n",
    "    BASE_URL = os.getenv(\"POKEMON_PAGE_URL\")\n",
    "    try:\n",
    "        set_res = requests.get(BASE_URL.format(page_number=page))\n",
    "        soup = BeautifulSoup(set_res.text, 'html.parser')\n",
    "        card_imgs = soup.find_all('img', {'class': 'card-image'})\n",
    "        src_sets = [Card(i['srcset'].split(', '), i.parent['title'])\n",
    "                    for i in card_imgs]\n",
    "        card_set = [Card(card.src[1].replace(\" 225w\", \"\").strip(),\n",
    "                         card.title) for card in src_sets]\n",
    "\n",
    "        cards.extend(card_set)\n",
    "\n",
    "        if (page % 5 == 0):\n",
    "            with open(data_path / 'cards.pickle', 'wb') as fp:\n",
    "                pickle.dump(cards, fp)\n",
    "            with open(data_path / 'saved_index.pickle', 'wb') as fp:\n",
    "                pickle.dump(page, fp)\n",
    "        print(page)\n",
    "    except:\n",
    "        pass\n",
    "\n",
    "    time.sleep(0.1)\n",
    "\n",
    "print(len(cards))\n",
    "# pprint(cards)"
   ]
  }
 ],
 "metadata": {
  "kernelspec": {
   "display_name": "base",
   "language": "python",
   "name": "python3"
  },
  "language_info": {
   "codemirror_mode": {
    "name": "ipython",
    "version": 3
   },
   "file_extension": ".py",
   "mimetype": "text/x-python",
   "name": "python",
   "nbconvert_exporter": "python",
   "pygments_lexer": "ipython3",
   "version": "3.11.7"
  }
 },
 "nbformat": 4,
 "nbformat_minor": 2
}
