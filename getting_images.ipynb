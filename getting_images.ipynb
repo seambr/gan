{
 "cells": [
  {
   "cell_type": "code",
   "execution_count": 5,
   "metadata": {},
   "outputs": [],
   "source": [
    "import asyncio\n",
    "import aiohttp\n",
    "from bs4 import BeautifulSoup\n",
    "from pathlib import Path\n",
    "import requests\n",
    "from pprint import pprint\n",
    "from typing import NamedTuple\n",
    "import pickle\n",
    "import time\n",
    "from dotenv import load_dotenv\n",
    "import os\n",
    "import copy\n",
    "load_dotenv()\n",
    "\n",
    "\n",
    "class Card(NamedTuple):\n",
    "    src: str\n",
    "    title: str"
   ]
  },
  {
   "cell_type": "code",
   "execution_count": 2,
   "metadata": {},
   "outputs": [
    {
     "data": {
      "text/plain": [
       "11640"
      ]
     },
     "execution_count": 2,
     "metadata": {},
     "output_type": "execute_result"
    }
   ],
   "source": [
    "data_path = (Path.cwd()/'data')\n",
    "with open(data_path / 'cards.pickle', 'rb') as fp:\n",
    "    cards = pickle.load(fp)\n",
    "len(cards)"
   ]
  },
  {
   "cell_type": "code",
   "execution_count": 1,
   "metadata": {},
   "outputs": [
    {
     "ename": "NameError",
     "evalue": "name 'data_path' is not defined",
     "output_type": "error",
     "traceback": [
      "\u001b[0;31m---------------------------------------------------------------------------\u001b[0m",
      "\u001b[0;31mNameError\u001b[0m                                 Traceback (most recent call last)",
      "Cell \u001b[0;32mIn[1], line 50\u001b[0m\n\u001b[1;32m     47\u001b[0m     \u001b[38;5;28mprint\u001b[39m(\u001b[38;5;124mF\u001b[39m\u001b[38;5;124m\"\u001b[39m\u001b[38;5;124m--> \u001b[39m\u001b[38;5;132;01m{\u001b[39;00mnum_completed\u001b[38;5;241m+\u001b[39mCARDS_TO_GET\u001b[38;5;132;01m}\u001b[39;00m\u001b[38;5;124m\"\u001b[39m)\n\u001b[1;32m     49\u001b[0m \u001b[38;5;28;01mfor\u001b[39;00m i \u001b[38;5;129;01min\u001b[39;00m \u001b[38;5;28mrange\u001b[39m(\u001b[38;5;241m3\u001b[39m):\n\u001b[0;32m---> 50\u001b[0m     \u001b[38;5;28;01mawait\u001b[39;00m dl_wrapper()\n\u001b[1;32m     51\u001b[0m     time\u001b[38;5;241m.\u001b[39msleep(\u001b[38;5;241m5\u001b[39m)\n",
      "Cell \u001b[0;32mIn[1], line 2\u001b[0m, in \u001b[0;36mdl_wrapper\u001b[0;34m()\u001b[0m\n\u001b[1;32m      1\u001b[0m \u001b[38;5;28;01masync\u001b[39;00m \u001b[38;5;28;01mdef\u001b[39;00m \u001b[38;5;21mdl_wrapper\u001b[39m():\n\u001b[0;32m----> 2\u001b[0m     \u001b[38;5;28;01mwith\u001b[39;00m \u001b[38;5;28mopen\u001b[39m( data_path \u001b[38;5;241m/\u001b[39m \u001b[38;5;124m'\u001b[39m\u001b[38;5;124mcard_image_save_index.pickle\u001b[39m\u001b[38;5;124m'\u001b[39m,\u001b[38;5;124m'\u001b[39m\u001b[38;5;124mrb\u001b[39m\u001b[38;5;124m'\u001b[39m) \u001b[38;5;28;01mas\u001b[39;00m fp:\n\u001b[1;32m      3\u001b[0m         \u001b[38;5;28;01mtry\u001b[39;00m:\n\u001b[1;32m      4\u001b[0m             num_completed \u001b[38;5;241m=\u001b[39m pickle\u001b[38;5;241m.\u001b[39mload(fp)\n",
      "\u001b[0;31mNameError\u001b[0m: name 'data_path' is not defined"
     ]
    }
   ],
   "source": [
    "async def dl_wrapper():\n",
    "    with open(data_path / 'card_image_save_index.pickle', 'rb') as fp:\n",
    "        try:\n",
    "            num_completed = pickle.load(fp)\n",
    "        except EOFError:\n",
    "            num_completed = 0\n",
    "\n",
    "    print(num_completed)\n",
    "    CARDS_TO_GET = 100\n",
    "    cards_being_fetched = copy.deepcopy(\n",
    "        cards[num_completed:num_completed+CARDS_TO_GET])\n",
    "\n",
    "    async def get_image(card: Card):\n",
    "\n",
    "        src = card.src\n",
    "\n",
    "        async with aiohttp.ClientSession() as session:\n",
    "            async with session.get(src) as response:\n",
    "                if response.status == 200:\n",
    "                    # save image\n",
    "                    return await response.read()\n",
    "                else:\n",
    "                    return None\n",
    "\n",
    "    tasks = [asyncio.create_task(get_image(card))\n",
    "             for card in cards_being_fetched]\n",
    "    completed_tasks = await asyncio.gather(*tasks)\n",
    "    image_path = Path.cwd() / \"images\"\n",
    "    for bd, card in zip(completed_tasks, cards_being_fetched):\n",
    "        card: Card = card\n",
    "        if bd == None:\n",
    "            # SKIP\n",
    "            continue\n",
    "        else:\n",
    "            try:\n",
    "                with open(image_path / (card.title + '.png'), 'wb') as fp:\n",
    "                    fp.write(bd)\n",
    "            except OSError:\n",
    "                # thrown in filename is invalid for some reason\n",
    "                # skip\n",
    "                continue\n",
    "\n",
    "    # update our current downloaded index\n",
    "\n",
    "    with open(data_path / 'card_image_save_index.pickle', 'wb') as fp:\n",
    "        pickle.dump(num_completed+CARDS_TO_GET, fp)\n",
    "    print(F\"--> {num_completed+CARDS_TO_GET}\")\n",
    "\n",
    "for i in range(3):\n",
    "    await dl_wrapper()\n",
    "    time.sleep(5)"
   ]
  }
 ],
 "metadata": {
  "kernelspec": {
   "display_name": "base",
   "language": "python",
   "name": "python3"
  },
  "language_info": {
   "codemirror_mode": {
    "name": "ipython",
    "version": 3
   },
   "file_extension": ".py",
   "mimetype": "text/x-python",
   "name": "python",
   "nbconvert_exporter": "python",
   "pygments_lexer": "ipython3",
   "version": "3.11.7"
  }
 },
 "nbformat": 4,
 "nbformat_minor": 2
}
