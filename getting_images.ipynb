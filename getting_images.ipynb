{
 "cells": [
  {
   "cell_type": "code",
   "execution_count": 1,
   "metadata": {},
   "outputs": [],
   "source": [
    "import asyncio\n",
    "import aiohttp\n",
    "from bs4 import BeautifulSoup\n",
    "from pathlib import Path\n",
    "import requests\n",
    "from pprint import pprint\n",
    "from typing import NamedTuple,List\n",
    "import pickle\n",
    "import time\n",
    "from dotenv import load_dotenv\n",
    "import os\n",
    "import copy\n",
    "load_dotenv()\n",
    "\n",
    "\n",
    "class Card(NamedTuple):\n",
    "    src: List[str]\n",
    "    title: str"
   ]
  },
  {
   "cell_type": "code",
   "execution_count": 2,
   "metadata": {},
   "outputs": [
    {
     "data": {
      "text/plain": [
       "1740"
      ]
     },
     "execution_count": 2,
     "metadata": {},
     "output_type": "execute_result"
    }
   ],
   "source": [
    "data_path = (Path.cwd()/'data')\n",
    "with open(data_path / 'cards.pickle', 'rb') as fp:\n",
    "    cards = pickle.load(fp)\n",
    "len(cards)"
   ]
  },
  {
   "cell_type": "code",
   "execution_count": 6,
   "metadata": {},
   "outputs": [
    {
     "name": "stdout",
     "output_type": "stream",
     "text": [
      "0\n",
      "200\n",
      "--> 300\n"
     ]
    }
   ],
   "source": [
    "async def dl_wrapper():\n",
    "    try:\n",
    "        with open(data_path / 'card_image_save_index.pickle', 'rb') as fp:\n",
    "            num_completed = pickle.load(fp)\n",
    "    except EOFError:\n",
    "            num_completed = 0\n",
    "    except FileNotFoundError:\n",
    "            num_completed = 0\n",
    "\n",
    "    print(num_completed)\n",
    "    CARDS_TO_GET = 100\n",
    "    cards_being_fetched = copy.deepcopy(cards[num_completed:num_completed+CARDS_TO_GET])\n",
    "\n",
    "    async def get_image(card: Card) -> bytes | None:\n",
    "\n",
    "        src = card.src\n",
    "\n",
    "        async with aiohttp.ClientSession() as session:\n",
    "            async with session.get(src) as response:\n",
    "                if response.status == 200:\n",
    "                    # save image\n",
    "                    # print(\"FOUND\")\n",
    "                    return await response.read()\n",
    "                else:\n",
    "                    return None\n",
    "\n",
    "    tasks = [asyncio.create_task(get_image(card)) for card in cards_being_fetched]\n",
    "\n",
    "    completed_tasks = await asyncio.gather(*tasks)\n",
    "\n",
    "    image_path = Path.cwd() / \"images\"\n",
    "\n",
    "    for bd, card in zip(completed_tasks, cards_being_fetched):\n",
    "        card: Card = card\n",
    "        if bd == None:\n",
    "            # SKIP\n",
    "            continue\n",
    "        else:\n",
    "            try:\n",
    "                with open(image_path / (card.title + '.png'), 'wb') as fp:\n",
    "                    fp.write(bd)\n",
    "            except OSError:\n",
    "                # thrown in filename is invalid for some reason\n",
    "                # skip\n",
    "                continue\n",
    "\n",
    "    # update our current downloaded index\n",
    "    with open(data_path / 'card_image_save_index.pickle', 'wb') as fp:\n",
    "        pickle.dump(num_completed+CARDS_TO_GET, fp)\n",
    "    print(F\"--> {num_completed+CARDS_TO_GET}\")\n",
    "\n",
    "\n",
    "for i in range(1):\n",
    "    print(i)\n",
    "    await dl_wrapper()\n",
    "    time.sleep(5)"
   ]
  }
 ],
 "metadata": {
  "kernelspec": {
   "display_name": "base",
   "language": "python",
   "name": "python3"
  },
  "language_info": {
   "codemirror_mode": {
    "name": "ipython",
    "version": 3
   },
   "file_extension": ".py",
   "mimetype": "text/x-python",
   "name": "python",
   "nbconvert_exporter": "python",
   "pygments_lexer": "ipython3",
   "version": "3.12.4"
  }
 },
 "nbformat": 4,
 "nbformat_minor": 2
}
